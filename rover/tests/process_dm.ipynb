{
 "cells": [
  {
   "cell_type": "code",
   "execution_count": 8,
   "metadata": {},
   "outputs": [],
   "source": [
    "import numpy as np\n",
    "import matplotlib.pyplot as plt\n",
    "import cv2"
   ]
  },
  {
   "cell_type": "code",
   "execution_count": 9,
   "metadata": {},
   "outputs": [],
   "source": [
    "img_dims = (1920, 1080)\n",
    "float_img = np.random.random(img_dims)\n",
    "im = np.array(float_img * 255, dtype = np.uint8)\n",
    "threshed = cv2.adaptiveThreshold(im, 255, cv2.ADAPTIVE_THRESH_MEAN_C, cv2.THRESH_BINARY, 3, 0)\n",
    "\n",
    "SHOW_IMAGE_WINDOW = True\n",
    "if SHOW_IMAGE_WINDOW:\n",
    "    cv2.imshow('imgae', threshed)\n",
    "    cv2.waitKey(0)\n",
    "    cv2.destroyAllWindows()"
   ]
  },
  {
   "cell_type": "code",
   "execution_count": 28,
   "metadata": {},
   "outputs": [
    {
     "data": {
      "text/plain": [
       "(1080, 1920)"
      ]
     },
     "execution_count": 28,
     "metadata": {},
     "output_type": "execute_result"
    }
   ],
   "source": [
    "float_img_matrix = (1- np.asmatrix(float_img)).T\n",
    "float_img_matrix.shape"
   ]
  },
  {
   "cell_type": "code",
   "execution_count": 25,
   "metadata": {},
   "outputs": [
    {
     "data": {
      "text/plain": [
       "(1920, 1080)"
      ]
     },
     "execution_count": 25,
     "metadata": {},
     "output_type": "execute_result"
    }
   ],
   "source": []
  },
  {
   "cell_type": "code",
   "execution_count": 33,
   "metadata": {},
   "outputs": [],
   "source": [
    "center_y = int(img_dims[1]/2-1)\n",
    "center_x = int(img_dims[0]/2-1)"
   ]
  },
  {
   "cell_type": "code",
   "execution_count": 34,
   "metadata": {},
   "outputs": [
    {
     "data": {
      "text/plain": [
       "matrix([[0.31843136, 0.26399934, 0.27331839, ..., 0.86834131, 0.95828183,\n",
       "         0.71913994],\n",
       "        [0.93706843, 0.27146157, 0.45984146, ..., 0.28720733, 0.1210108 ,\n",
       "         0.17917817],\n",
       "        [0.19526086, 0.08787081, 0.18218684, ..., 0.93729683, 0.33992288,\n",
       "         0.45656221],\n",
       "        ...,\n",
       "        [0.74256422, 0.72082412, 0.59768918, ..., 0.16956627, 0.15341242,\n",
       "         0.7413811 ],\n",
       "        [0.58721306, 0.86913061, 0.70528258, ..., 0.71269792, 0.9194607 ,\n",
       "         0.48103119],\n",
       "        [0.18735626, 0.48071953, 0.72736566, ..., 0.9371145 , 0.68701309,\n",
       "         0.67263099]])"
      ]
     },
     "execution_count": 34,
     "metadata": {},
     "output_type": "execute_result"
    }
   ],
   "source": [
    "float_img_matrix[0:center_y, 0:center_x]"
   ]
  }
 ],
 "metadata": {
  "kernelspec": {
   "display_name": "Python 3",
   "language": "python",
   "name": "python3"
  },
  "language_info": {
   "codemirror_mode": {
    "name": "ipython",
    "version": 3
   },
   "file_extension": ".py",
   "mimetype": "text/x-python",
   "name": "python",
   "nbconvert_exporter": "python",
   "pygments_lexer": "ipython3",
   "version": "3.9.13"
  },
  "orig_nbformat": 4
 },
 "nbformat": 4,
 "nbformat_minor": 2
}
