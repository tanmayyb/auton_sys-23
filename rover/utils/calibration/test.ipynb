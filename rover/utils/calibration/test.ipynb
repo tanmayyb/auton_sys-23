{
 "cells": [
  {
   "cell_type": "code",
   "execution_count": 4,
   "metadata": {},
   "outputs": [],
   "source": [
    "import pathlib, os"
   ]
  },
  {
   "cell_type": "code",
   "execution_count": 3,
   "metadata": {},
   "outputs": [
    {
     "name": "stdout",
     "output_type": "stream",
     "text": [
      "imgs\\gucc\n"
     ]
    }
   ],
   "source": [
    "dirpath = 'imgs/gucc'\n",
    "img_dir = pathlib.Path(dirpath)\n",
    "\n",
    "print(img_dir)"
   ]
  },
  {
   "cell_type": "code",
   "execution_count": 5,
   "metadata": {},
   "outputs": [
    {
     "data": {
      "text/plain": [
       "['WIN_20230601_15_52_28_Pro.jpg',\n",
       " 'WIN_20230601_15_52_30_Pro.jpg',\n",
       " 'WIN_20230601_15_52_37_Pro.jpg',\n",
       " 'WIN_20230601_15_52_39_Pro.jpg',\n",
       " 'WIN_20230601_15_52_41_Pro.jpg',\n",
       " 'WIN_20230601_15_52_45_Pro.jpg',\n",
       " 'WIN_20230601_15_52_50_Pro.jpg',\n",
       " 'WIN_20230601_15_52_55_Pro.jpg',\n",
       " 'WIN_20230601_15_52_59_Pro.jpg',\n",
       " 'WIN_20230601_15_53_01_Pro.jpg',\n",
       " 'WIN_20230601_15_53_03_Pro.jpg',\n",
       " 'WIN_20230601_15_53_04_Pro.jpg',\n",
       " 'WIN_20230601_15_53_06_Pro.jpg',\n",
       " 'WIN_20230601_15_53_08_Pro.jpg',\n",
       " 'WIN_20230601_15_53_10_Pro.jpg',\n",
       " 'WIN_20230601_15_53_12_Pro.jpg',\n",
       " 'WIN_20230601_15_53_13_Pro.jpg',\n",
       " 'WIN_20230601_15_53_16_Pro.jpg',\n",
       " 'WIN_20230601_15_53_17_Pro.jpg',\n",
       " 'WIN_20230601_15_53_18_Pro.jpg',\n",
       " 'WIN_20230601_15_53_20_Pro.jpg',\n",
       " 'WIN_20230601_15_53_21_Pro.jpg',\n",
       " 'WIN_20230601_15_53_23_Pro.jpg']"
      ]
     },
     "execution_count": 5,
     "metadata": {},
     "output_type": "execute_result"
    }
   ],
   "source": [
    "os.listdir(img_dir)"
   ]
  }
 ],
 "metadata": {
  "kernelspec": {
   "display_name": "Python 3",
   "language": "python",
   "name": "python3"
  },
  "language_info": {
   "codemirror_mode": {
    "name": "ipython",
    "version": 3
   },
   "file_extension": ".py",
   "mimetype": "text/x-python",
   "name": "python",
   "nbconvert_exporter": "python",
   "pygments_lexer": "ipython3",
   "version": "3.9.13"
  },
  "orig_nbformat": 4
 },
 "nbformat": 4,
 "nbformat_minor": 2
}
